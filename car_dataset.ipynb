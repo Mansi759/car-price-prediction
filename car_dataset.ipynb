{
 "cells": [
  {
   "cell_type": "code",
   "execution_count": 2,
   "id": "b1e3cfda-cafa-476f-a0fd-988f9e775ac3",
   "metadata": {},
   "outputs": [],
   "source": [
    "import pandas as pd \n",
    "import numpy as np\n",
    "import matplotlib.pyplot as plt\n",
    "import seaborn as sns"
   ]
  },
  {
   "cell_type": "markdown",
   "id": "d21d2c56-d472-424e-87a0-41bcc1487ff7",
   "metadata": {},
   "source": [
    "# EDA"
   ]
  },
  {
   "cell_type": "code",
   "execution_count": 3,
   "id": "febb9bee-6bbf-4c5f-98c5-c630cd82c552",
   "metadata": {},
   "outputs": [],
   "source": [
    "data = pd.read_csv(\"car_price_dataset.csv\")"
   ]
  },
  {
   "cell_type": "code",
   "execution_count": 4,
   "id": "71bb5ee2-760b-4e85-826e-c0ffeeea810d",
   "metadata": {},
   "outputs": [
    {
     "data": {
      "text/html": [
       "<div>\n",
       "<style scoped>\n",
       "    .dataframe tbody tr th:only-of-type {\n",
       "        vertical-align: middle;\n",
       "    }\n",
       "\n",
       "    .dataframe tbody tr th {\n",
       "        vertical-align: top;\n",
       "    }\n",
       "\n",
       "    .dataframe thead th {\n",
       "        text-align: right;\n",
       "    }\n",
       "</style>\n",
       "<table border=\"1\" class=\"dataframe\">\n",
       "  <thead>\n",
       "    <tr style=\"text-align: right;\">\n",
       "      <th></th>\n",
       "      <th>Brand</th>\n",
       "      <th>Model</th>\n",
       "      <th>Year</th>\n",
       "      <th>Engine_Size</th>\n",
       "      <th>Fuel_Type</th>\n",
       "      <th>Transmission</th>\n",
       "      <th>Mileage</th>\n",
       "      <th>Doors</th>\n",
       "      <th>Owner_Count</th>\n",
       "      <th>Price</th>\n",
       "    </tr>\n",
       "  </thead>\n",
       "  <tbody>\n",
       "    <tr>\n",
       "      <th>0</th>\n",
       "      <td>Kia</td>\n",
       "      <td>Rio</td>\n",
       "      <td>2020</td>\n",
       "      <td>4.2</td>\n",
       "      <td>Diesel</td>\n",
       "      <td>Manual</td>\n",
       "      <td>289944</td>\n",
       "      <td>3</td>\n",
       "      <td>5</td>\n",
       "      <td>8501</td>\n",
       "    </tr>\n",
       "    <tr>\n",
       "      <th>1</th>\n",
       "      <td>Chevrolet</td>\n",
       "      <td>Malibu</td>\n",
       "      <td>2012</td>\n",
       "      <td>2.0</td>\n",
       "      <td>Hybrid</td>\n",
       "      <td>Automatic</td>\n",
       "      <td>5356</td>\n",
       "      <td>2</td>\n",
       "      <td>3</td>\n",
       "      <td>12092</td>\n",
       "    </tr>\n",
       "  </tbody>\n",
       "</table>\n",
       "</div>"
      ],
      "text/plain": [
       "       Brand   Model  Year  Engine_Size Fuel_Type Transmission  Mileage  \\\n",
       "0        Kia     Rio  2020          4.2    Diesel       Manual   289944   \n",
       "1  Chevrolet  Malibu  2012          2.0    Hybrid    Automatic     5356   \n",
       "\n",
       "   Doors  Owner_Count  Price  \n",
       "0      3            5   8501  \n",
       "1      2            3  12092  "
      ]
     },
     "execution_count": 4,
     "metadata": {},
     "output_type": "execute_result"
    }
   ],
   "source": [
    "data.head(2)"
   ]
  },
  {
   "cell_type": "code",
   "execution_count": 5,
   "id": "0ca04dfc-b9f7-4434-92cb-e2589bc9b480",
   "metadata": {},
   "outputs": [
    {
     "name": "stdout",
     "output_type": "stream",
     "text": [
      "<class 'pandas.core.frame.DataFrame'>\n",
      "RangeIndex: 10000 entries, 0 to 9999\n",
      "Data columns (total 10 columns):\n",
      " #   Column        Non-Null Count  Dtype  \n",
      "---  ------        --------------  -----  \n",
      " 0   Brand         10000 non-null  object \n",
      " 1   Model         10000 non-null  object \n",
      " 2   Year          10000 non-null  int64  \n",
      " 3   Engine_Size   10000 non-null  float64\n",
      " 4   Fuel_Type     10000 non-null  object \n",
      " 5   Transmission  10000 non-null  object \n",
      " 6   Mileage       10000 non-null  int64  \n",
      " 7   Doors         10000 non-null  int64  \n",
      " 8   Owner_Count   10000 non-null  int64  \n",
      " 9   Price         10000 non-null  int64  \n",
      "dtypes: float64(1), int64(5), object(4)\n",
      "memory usage: 781.4+ KB\n",
      "The info...about data =  None\n",
      "**************************************************\n",
      "The shape of data =  (10000, 10)\n",
      "**************************************************\n",
      "The statistical information =                 Year   Engine_Size        Mileage         Doors   Owner_Count  \\\n",
      "count  10000.000000  10000.000000   10000.000000  10000.000000  10000.000000   \n",
      "mean    2011.543700      3.000560  149239.111800      3.497100      2.991100   \n",
      "std        6.897699      1.149324   86322.348957      1.110097      1.422682   \n",
      "min     2000.000000      1.000000      25.000000      2.000000      1.000000   \n",
      "25%     2006.000000      2.000000   74649.250000      3.000000      2.000000   \n",
      "50%     2012.000000      3.000000  149587.000000      3.000000      3.000000   \n",
      "75%     2017.000000      4.000000  223577.500000      4.000000      4.000000   \n",
      "max     2023.000000      5.000000  299947.000000      5.000000      5.000000   \n",
      "\n",
      "             Price  \n",
      "count  10000.00000  \n",
      "mean    8852.96440  \n",
      "std     3112.59681  \n",
      "min     2000.00000  \n",
      "25%     6646.00000  \n",
      "50%     8858.50000  \n",
      "75%    11086.50000  \n",
      "max    18301.00000  \n",
      "**************************************************\n"
     ]
    }
   ],
   "source": [
    "print(\"The info...about data = \", data.info())\n",
    "print(\"*\"*50)\n",
    "print(\"The shape of data = \", data.shape)\n",
    "print(\"*\"*50)\n",
    "print(\"The statistical information = \", data.describe())\n",
    "print(\"*\"*50)"
   ]
  },
  {
   "cell_type": "code",
   "execution_count": 6,
   "id": "145fcd49-30cd-418b-9b76-28ebd474ba0c",
   "metadata": {},
   "outputs": [
    {
     "name": "stdout",
     "output_type": "stream",
     "text": [
      "The null value count =  Brand           0\n",
      "Model           0\n",
      "Year            0\n",
      "Engine_Size     0\n",
      "Fuel_Type       0\n",
      "Transmission    0\n",
      "Mileage         0\n",
      "Doors           0\n",
      "Owner_Count     0\n",
      "Price           0\n",
      "dtype: int64\n",
      "**************************************************\n",
      "Duplicated values =  0\n"
     ]
    }
   ],
   "source": [
    "print(\"The null value count = \", data.isnull().sum())\n",
    "print(\"*\"*50)\n",
    "print(\"Duplicated values = \",data.duplicated().sum())"
   ]
  },
  {
   "cell_type": "code",
   "execution_count": 7,
   "id": "f0443fd4-db30-409d-81dd-e3f5bbb44f2c",
   "metadata": {},
   "outputs": [
    {
     "name": "stdout",
     "output_type": "stream",
     "text": [
      "The categorical columns are =             Brand     Model Fuel_Type    Transmission\n",
      "0            Kia       Rio    Diesel          Manual\n",
      "1      Chevrolet    Malibu    Hybrid       Automatic\n",
      "2       Mercedes       GLA    Diesel       Automatic\n",
      "3           Audi        Q5  Electric          Manual\n",
      "4     Volkswagen      Golf    Hybrid  Semi-Automatic\n",
      "...          ...       ...       ...             ...\n",
      "9995         Kia    Optima    Diesel  Semi-Automatic\n",
      "9996   Chevrolet    Impala  Electric       Automatic\n",
      "9997         BMW  3 Series    Petrol       Automatic\n",
      "9998        Ford  Explorer    Hybrid       Automatic\n",
      "9999  Volkswagen    Tiguan    Diesel          Manual\n",
      "\n",
      "[10000 rows x 4 columns]\n",
      "**************************************************\n",
      "The numerical columns are =        Year  Engine_Size  Mileage  Doors  Owner_Count  Price\n",
      "0     2020          4.2   289944      3            5   8501\n",
      "1     2012          2.0     5356      2            3  12092\n",
      "2     2020          4.2   231440      4            2  11171\n",
      "3     2023          2.0   160971      2            1  11780\n",
      "4     2003          2.6   286618      3            3   2867\n",
      "...    ...          ...      ...    ...          ...    ...\n",
      "9995  2004          3.7     5794      2            4   8884\n",
      "9996  2002          1.4   168000      2            1   6240\n",
      "9997  2010          3.0    86664      5            1   9866\n",
      "9998  2002          1.4   225772      4            1   4084\n",
      "9999  2001          2.1   157882      3            3   3342\n",
      "\n",
      "[10000 rows x 6 columns]\n"
     ]
    }
   ],
   "source": [
    "# dividing the data into numerical and categorical variables\n",
    "\n",
    "categorical = data.select_dtypes(include = [\"object\"])\n",
    "print(\"The categorical columns are = \",categorical)\n",
    "print(\"*\"*50)\n",
    "numerical = data.select_dtypes(include = [\"int64\",\"float64\"])\n",
    "print(\"The numerical columns are = \",numerical)\n"
   ]
  },
  {
   "cell_type": "markdown",
   "id": "e77028a2-27bb-43cb-b35f-006f32192b52",
   "metadata": {},
   "source": [
    "# checking outliers"
   ]
  },
  {
   "cell_type": "code",
   "execution_count": 8,
   "id": "719c7a8f-8379-4c09-bc06-777aaa926b39",
   "metadata": {},
   "outputs": [
    {
     "data": {
      "image/png": "[encoded data removed]",
      "text/plain": [
       "<Figure size 640x480 with 1 Axes>"
      ]
     },
     "metadata": {},
     "output_type": "display_data"
    }
   ],
   "source": [
    "# year \n",
    "plt.title(\"YEAR\")\n",
    "sns.boxplot(numerical[\"Year\"])\n",
    "plt.show()"
   ]
  },
  {
   "cell_type": "code",
   "execution_count": 9,
   "id": "f18bb0f8-30e0-4bc3-ba2e-7bd7c831d08c",
   "metadata": {},
   "outputs": [
    {
     "data": {
      "image/png": "[encoded data removed]",
      "text/plain": [
       "<Figure size 640x480 with 1 Axes>"
      ]
     },
     "metadata": {},
     "output_type": "display_data"
    }
   ],
   "source": [
    "# Engine_Size\n",
    "plt.title(\"Engine_Size\")\n",
    "sns.boxplot(numerical[\"Engine_Size\"])\n",
    "plt.show()"
   ]
  },
  {
   "cell_type": "code",
   "execution_count": 10,
   "id": "7654f990-3038-4744-9f0a-2f80259d58a2",
   "metadata": {},
   "outputs": [
    {
     "data": {
      "image/png": "[encoded data removed]",
      "text/plain": [
       "<Figure size 640x480 with 1 Axes>"
      ]
     },
     "metadata": {},
     "output_type": "display_data"
    }
   ],
   "source": [
    "# Mileage\n",
    "plt.title(\"Mileage\")\n",
    "sns.boxplot(numerical[\"Mileage\"])\n",
    "plt.show()"
   ]
  },
  {
   "cell_type": "code",
   "execution_count": 11,
   "id": "4eee20e2-a48d-4322-b457-481ef56b4f29",
   "metadata": {},
   "outputs": [
    {
     "data": {
      "image/png": "[encoded data removed]",
      "text/plain": [
       "<Figure size 640x480 with 1 Axes>"
      ]
     },
     "metadata": {},
     "output_type": "display_data"
    }
   ],
   "source": [
    "# Doors\n",
    "plt.title(\"Doors\")\n",
    "sns.boxplot(numerical[\"Doors\"])\n",
    "plt.show()"
   ]
  },
  {
   "cell_type": "code",
   "execution_count": 12,
   "id": "d846523b-6729-404c-b483-a33c5421daa6",
   "metadata": {},
   "outputs": [
    {
     "data": {
      "image/png": "[encoded data removed]",
      "text/plain": [
       "<Figure size 640x480 with 1 Axes>"
      ]
     },
     "metadata": {},
     "output_type": "display_data"
    }
   ],
   "source": [
    "# Owner_Count\n",
    "plt.title(\"Owner_Count\")\n",
    "sns.boxplot(numerical[\"Owner_Count\"])\n",
    "plt.show()"
   ]
  },
  {
   "cell_type": "code",
   "execution_count": 13,
   "id": "e6d3c90c-fd68-4e89-8e20-9927b7f88dc8",
   "metadata": {},
   "outputs": [
    {
     "data": {
      "image/png": "[encoded data removed]",
      "text/plain": [
       "<Figure size 640x480 with 1 Axes>"
      ]
     },
     "metadata": {},
     "output_type": "display_data"
    }
   ],
   "source": [
    "# Price\n",
    "plt.title(\"Price\")\n",
    "sns.boxplot(numerical[\"Price\"])\n",
    "plt.show()"
   ]
  },
  {
   "cell_type": "markdown",
   "id": "97c3d63d-0fd0-429c-90f3-f7b475c1012b",
   "metadata": {},
   "source": [
    "# FEATURE TRANSFORMATION"
   ]
  },
  {
   "cell_type": "code",
   "execution_count": 14,
   "id": "51462eb6-3f6b-452d-be31-96ffeed42b13",
   "metadata": {},
   "outputs": [
    {
     "data": {
      "image/png": "[encoded data removed]",
      "text/plain": [
       "<Figure size 640x480 with 1 Axes>"
      ]
     },
     "metadata": {},
     "output_type": "display_data"
    }
   ],
   "source": [
    "plt.title(\"Hist plot of Price \")\n",
    "sns.histplot(numerical[\"Price\"])\n",
    "plt.show()"
   ]
  },
  {
   "cell_type": "markdown",
   "id": "c23a6ea4-a7d2-4ced-900f-4e2a970f6af0",
   "metadata": {},
   "source": [
    "# removing outliers"
   ]
  },
  {
   "cell_type": "code",
   "execution_count": 15,
   "id": "e576b7c1-a04c-4fcf-bb1a-6e9ff9e6afe3",
   "metadata": {},
   "outputs": [],
   "source": [
    "from scipy.stats import zscore"
   ]
  },
  {
   "cell_type": "code",
   "execution_count": 16,
   "id": "fbaa7fee-16ee-459a-9380-53e9e4a55f25",
   "metadata": {},
   "outputs": [
    {
     "name": "stdout",
     "output_type": "stream",
     "text": [
      "The data after removing outliers...:       Year  Engine_Size  Mileage  Doors  Owner_Count  Price\n",
      "0     2020          4.2   289944      3            5   8501\n",
      "1     2012          2.0     5356      2            3  12092\n",
      "2     2020          4.2   231440      4            2  11171\n",
      "3     2023          2.0   160971      2            1  11780\n",
      "4     2003          2.6   286618      3            3   2867\n",
      "...    ...          ...      ...    ...          ...    ...\n",
      "9995  2004          3.7     5794      2            4   8884\n",
      "9996  2002          1.4   168000      2            1   6240\n",
      "9997  2010          3.0    86664      5            1   9866\n",
      "9998  2002          1.4   225772      4            1   4084\n",
      "9999  2001          2.1   157882      3            3   3342\n",
      "\n",
      "[9998 rows x 6 columns]\n",
      "--------------------------------------------------\n",
      "After remving outliers the shape is : (9998, 6)\n"
     ]
    }
   ],
   "source": [
    "numerical[\"zscore_value\"] = zscore(numerical[\"Price\"])\n",
    "threshold = 3\n",
    "\n",
    "numerical[\"outliers\"] = numerical[\"zscore_value\"].abs() > threshold\n",
    "numerical = numerical[numerical[\"outliers\"]==False]\n",
    "\n",
    "numerical = numerical.drop(columns=[\"zscore_value\", \"outliers\"])\n",
    "print(\"The data after removing outliers...:\",numerical)\n",
    "\n",
    "print(\"-\"*50)\n",
    "\n",
    "print(\"After remving outliers the shape is :\", numerical.shape)\n"
   ]
  },
  {
   "cell_type": "code",
   "execution_count": 17,
   "id": "5238fecb-e928-4795-af41-59f94f351b31",
   "metadata": {},
   "outputs": [
    {
     "data": {
      "image/png": "[encoded data removed]",
      "text/plain": [
       "<Figure size 640x480 with 1 Axes>"
      ]
     },
     "metadata": {},
     "output_type": "display_data"
    }
   ],
   "source": [
    "plt.title(\"Price\")\n",
    "sns.boxplot(numerical[\"Price\"])\n",
    "plt.show()"
   ]
  },
  {
   "cell_type": "markdown",
   "id": "c743bab1-a4d1-4454-940e-7e770d7e0d81",
   "metadata": {},
   "source": [
    "# SCALING TECHNIQUE"
   ]
  },
  {
   "cell_type": "code",
   "execution_count": 18,
   "id": "6f9603f1-eae5-4a63-bb4e-b94de28105f2",
   "metadata": {},
   "outputs": [
    {
     "data": {
      "image/png": "[encoded data removed]",
      "text/plain": [
       "<Figure size 640x480 with 1 Axes>"
      ]
     },
     "metadata": {},
     "output_type": "display_data"
    }
   ],
   "source": [
    "plt.title(\"Mileage\")\n",
    "sns.histplot(numerical[\"Mileage\"])\n",
    "plt.show()"
   ]
  },
  {
   "cell_type": "raw",
   "id": "44cf566b-9b6b-4518-8594-1095fa866671",
   "metadata": {},
   "source": [
    "# Due to uniformly distributed data, the scaling is not possible. "
   ]
  },
  {
   "cell_type": "markdown",
   "id": "f30fd157-a6c4-408e-8a35-5c1931659f79",
   "metadata": {},
   "source": [
    "# ENCODING TECHNIQUES"
   ]
  },
  {
   "cell_type": "code",
   "execution_count": 19,
   "id": "803224ca-456c-4c69-acdf-5e0864b4cbba",
   "metadata": {},
   "outputs": [
    {
     "name": "stdout",
     "output_type": "stream",
     "text": [
      "Unique values of Brand =  ['Kia' 'Chevrolet' 'Mercedes' 'Audi' 'Volkswagen' 'Toyota' 'Honda' 'BMW'\n",
      " 'Hyundai' 'Ford']\n",
      "--------------------------------------------------\n",
      "Unique values of Model =  ['Rio' 'Malibu' 'GLA' 'Q5' 'Golf' 'Camry' 'Civic' 'Sportage' 'RAV4'\n",
      " '5 Series' 'CR-V' 'Elantra' 'Tiguan' 'Equinox' 'Explorer' 'A3' '3 Series'\n",
      " 'Tucson' 'Passat' 'Impala' 'Corolla' 'Optima' 'Fiesta' 'A4' 'Focus'\n",
      " 'E-Class' 'Sonata' 'C-Class' 'X5' 'Accord']\n",
      "--------------------------------------------------\n",
      "Unique values of Fuel_Type =  ['Diesel' 'Hybrid' 'Electric' 'Petrol']\n",
      "--------------------------------------------------\n",
      "Unique values of Trasmission =  ['Manual' 'Automatic' 'Semi-Automatic']\n"
     ]
    }
   ],
   "source": [
    "print(\"Unique values of Brand = \", categorical[\"Brand\"].unique())\n",
    "print(\"-\"*50)\n",
    "\n",
    "print(\"Unique values of Model = \", categorical[\"Model\"].unique())\n",
    "print(\"-\"*50)\n",
    "\n",
    "print(\"Unique values of Fuel_Type = \", categorical[\"Fuel_Type\"].unique())\n",
    "print(\"-\"*50)\n",
    "\n",
    "print(\"Unique values of Trasmission = \", categorical[\"Transmission\"].unique())\n"
   ]
  },
  {
   "cell_type": "code",
   "execution_count": 20,
   "id": "cdffa80a-eb1d-4638-9a6a-e7e00ead7407",
   "metadata": {},
   "outputs": [],
   "source": [
    "from sklearn.preprocessing import LabelEncoder\n",
    "import pickle"
   ]
  },
  {
   "cell_type": "code",
   "execution_count": 21,
   "id": "fe22cbdc-3800-4402-81e5-76bafc38d240",
   "metadata": {},
   "outputs": [
    {
     "name": "stdout",
     "output_type": "stream",
     "text": [
      "The encoded data:\n",
      "       Brand  Model  Fuel_Type  Transmission\n",
      "0         6     24          0             1\n",
      "1         2     19          2             0\n",
      "2         7     16          0             0\n",
      "3         0     22          1             1\n",
      "4         9     17          2             2\n",
      "...     ...    ...        ...           ...\n",
      "9995      6     20          0             2\n",
      "9996      2     18          1             0\n",
      "9997      1      0          3             0\n",
      "9998      3     13          2             0\n",
      "9999      9     27          0             1\n",
      "\n",
      "[10000 rows x 4 columns]\n",
      "✅ Encoders saved successfully!\n"
     ]
    }
   ],
   "source": [
    "encoder_brand = LabelEncoder()\n",
    "encoder_model = LabelEncoder()\n",
    "encoder_fuel = LabelEncoder()\n",
    "encoder_transmission = LabelEncoder()\n",
    "\n",
    "categorical[\"Brand\"] = encoder_brand.fit_transform(categorical[\"Brand\"])\n",
    "categorical[\"Model\"] = encoder_model.fit_transform(categorical[\"Model\"])\n",
    "categorical[\"Fuel_Type\"] = encoder_fuel.fit_transform(categorical[\"Fuel_Type\"])\n",
    "categorical[\"Transmission\"] = encoder_transmission.fit_transform(categorical[\"Transmission\"])\n",
    "\n",
    "print(\"The encoded data:\\n\", categorical)\n",
    "\n",
    "# Store all encoders in a dictionary\n",
    "encoders = {\n",
    "    \"Brand\": encoder_brand,\n",
    "    \"Model\": encoder_model,\n",
    "    \"Fuel_Type\": encoder_fuel,\n",
    "    \"Transmission\": encoder_transmission\n",
    "}\n",
    "\n",
    "# Save encoders using pickle\n",
    "with open(\"encoders.pkl\", \"wb\") as file:\n",
    "    pickle.dump(encoders, file)\n",
    "\n",
    "print(\"✅ Encoders saved successfully!\")\n",
    "\n"
   ]
  },
  {
   "cell_type": "markdown",
   "id": "12563e5e-1605-4369-b03d-23409813fafb",
   "metadata": {},
   "source": [
    "# FINAL DATAFRAME"
   ]
  },
  {
   "cell_type": "code",
   "execution_count": 22,
   "id": "15a7161e-8989-445c-ad0b-df11948de7db",
   "metadata": {},
   "outputs": [
    {
     "name": "stdout",
     "output_type": "stream",
     "text": [
      "Missing Rows in Numerical: {1100, 7221}\n",
      "Missing Rows in Categorical: set()\n"
     ]
    }
   ],
   "source": [
    "missing_indices = set(categorical.index) - set(numerical.index)\n",
    "print(\"Missing Rows in Numerical:\", missing_indices)\n",
    "\n",
    "missing_indices = set(numerical.index) - set(categorical.index)\n",
    "print(\"Missing Rows in Categorical:\", missing_indices)\n"
   ]
  },
  {
   "cell_type": "code",
   "execution_count": 23,
   "id": "7c9e2875-89bc-436e-9949-3ff6eabe81ed",
   "metadata": {},
   "outputs": [],
   "source": [
    "categorical = categorical.loc[numerical.index]"
   ]
  },
  {
   "cell_type": "code",
   "execution_count": 24,
   "id": "67c1100e-bab9-4f58-864d-31d6ba5318b0",
   "metadata": {},
   "outputs": [],
   "source": [
    "final_data = pd.concat([numerical, categorical], axis=1)"
   ]
  },
  {
   "cell_type": "code",
   "execution_count": 25,
   "id": "5f98f0f1-4f92-4fc3-bcad-704a0cce2f81",
   "metadata": {},
   "outputs": [
    {
     "data": {
      "text/html": [
       "<div>\n",
       "<style scoped>\n",
       "    .dataframe tbody tr th:only-of-type {\n",
       "        vertical-align: middle;\n",
       "    }\n",
       "\n",
       "    .dataframe tbody tr th {\n",
       "        vertical-align: top;\n",
       "    }\n",
       "\n",
       "    .dataframe thead th {\n",
       "        text-align: right;\n",
       "    }\n",
       "</style>\n",
       "<table border=\"1\" class=\"dataframe\">\n",
       "  <thead>\n",
       "    <tr style=\"text-align: right;\">\n",
       "      <th></th>\n",
       "      <th>Year</th>\n",
       "      <th>Engine_Size</th>\n",
       "      <th>Mileage</th>\n",
       "      <th>Doors</th>\n",
       "      <th>Owner_Count</th>\n",
       "      <th>Price</th>\n",
       "      <th>Brand</th>\n",
       "      <th>Model</th>\n",
       "      <th>Fuel_Type</th>\n",
       "      <th>Transmission</th>\n",
       "    </tr>\n",
       "  </thead>\n",
       "  <tbody>\n",
       "    <tr>\n",
       "      <th>0</th>\n",
       "      <td>2020</td>\n",
       "      <td>4.2</td>\n",
       "      <td>289944</td>\n",
       "      <td>3</td>\n",
       "      <td>5</td>\n",
       "      <td>8501</td>\n",
       "      <td>6</td>\n",
       "      <td>24</td>\n",
       "      <td>0</td>\n",
       "      <td>1</td>\n",
       "    </tr>\n",
       "    <tr>\n",
       "      <th>1</th>\n",
       "      <td>2012</td>\n",
       "      <td>2.0</td>\n",
       "      <td>5356</td>\n",
       "      <td>2</td>\n",
       "      <td>3</td>\n",
       "      <td>12092</td>\n",
       "      <td>2</td>\n",
       "      <td>19</td>\n",
       "      <td>2</td>\n",
       "      <td>0</td>\n",
       "    </tr>\n",
       "    <tr>\n",
       "      <th>2</th>\n",
       "      <td>2020</td>\n",
       "      <td>4.2</td>\n",
       "      <td>231440</td>\n",
       "      <td>4</td>\n",
       "      <td>2</td>\n",
       "      <td>11171</td>\n",
       "      <td>7</td>\n",
       "      <td>16</td>\n",
       "      <td>0</td>\n",
       "      <td>0</td>\n",
       "    </tr>\n",
       "    <tr>\n",
       "      <th>3</th>\n",
       "      <td>2023</td>\n",
       "      <td>2.0</td>\n",
       "      <td>160971</td>\n",
       "      <td>2</td>\n",
       "      <td>1</td>\n",
       "      <td>11780</td>\n",
       "      <td>0</td>\n",
       "      <td>22</td>\n",
       "      <td>1</td>\n",
       "      <td>1</td>\n",
       "    </tr>\n",
       "    <tr>\n",
       "      <th>4</th>\n",
       "      <td>2003</td>\n",
       "      <td>2.6</td>\n",
       "      <td>286618</td>\n",
       "      <td>3</td>\n",
       "      <td>3</td>\n",
       "      <td>2867</td>\n",
       "      <td>9</td>\n",
       "      <td>17</td>\n",
       "      <td>2</td>\n",
       "      <td>2</td>\n",
       "    </tr>\n",
       "    <tr>\n",
       "      <th>...</th>\n",
       "      <td>...</td>\n",
       "      <td>...</td>\n",
       "      <td>...</td>\n",
       "      <td>...</td>\n",
       "      <td>...</td>\n",
       "      <td>...</td>\n",
       "      <td>...</td>\n",
       "      <td>...</td>\n",
       "      <td>...</td>\n",
       "      <td>...</td>\n",
       "    </tr>\n",
       "    <tr>\n",
       "      <th>9995</th>\n",
       "      <td>2004</td>\n",
       "      <td>3.7</td>\n",
       "      <td>5794</td>\n",
       "      <td>2</td>\n",
       "      <td>4</td>\n",
       "      <td>8884</td>\n",
       "      <td>6</td>\n",
       "      <td>20</td>\n",
       "      <td>0</td>\n",
       "      <td>2</td>\n",
       "    </tr>\n",
       "    <tr>\n",
       "      <th>9996</th>\n",
       "      <td>2002</td>\n",
       "      <td>1.4</td>\n",
       "      <td>168000</td>\n",
       "      <td>2</td>\n",
       "      <td>1</td>\n",
       "      <td>6240</td>\n",
       "      <td>2</td>\n",
       "      <td>18</td>\n",
       "      <td>1</td>\n",
       "      <td>0</td>\n",
       "    </tr>\n",
       "    <tr>\n",
       "      <th>9997</th>\n",
       "      <td>2010</td>\n",
       "      <td>3.0</td>\n",
       "      <td>86664</td>\n",
       "      <td>5</td>\n",
       "      <td>1</td>\n",
       "      <td>9866</td>\n",
       "      <td>1</td>\n",
       "      <td>0</td>\n",
       "      <td>3</td>\n",
       "      <td>0</td>\n",
       "    </tr>\n",
       "    <tr>\n",
       "      <th>9998</th>\n",
       "      <td>2002</td>\n",
       "      <td>1.4</td>\n",
       "      <td>225772</td>\n",
       "      <td>4</td>\n",
       "      <td>1</td>\n",
       "      <td>4084</td>\n",
       "      <td>3</td>\n",
       "      <td>13</td>\n",
       "      <td>2</td>\n",
       "      <td>0</td>\n",
       "    </tr>\n",
       "    <tr>\n",
       "      <th>9999</th>\n",
       "      <td>2001</td>\n",
       "      <td>2.1</td>\n",
       "      <td>157882</td>\n",
       "      <td>3</td>\n",
       "      <td>3</td>\n",
       "      <td>3342</td>\n",
       "      <td>9</td>\n",
       "      <td>27</td>\n",
       "      <td>0</td>\n",
       "      <td>1</td>\n",
       "    </tr>\n",
       "  </tbody>\n",
       "</table>\n",
       "<p>9998 rows × 10 columns</p>\n",
       "</div>"
      ],
      "text/plain": [
       "      Year  Engine_Size  Mileage  Doors  Owner_Count  Price  Brand  Model  \\\n",
       "0     2020          4.2   289944      3            5   8501      6     24   \n",
       "1     2012          2.0     5356      2            3  12092      2     19   \n",
       "2     2020          4.2   231440      4            2  11171      7     16   \n",
       "3     2023          2.0   160971      2            1  11780      0     22   \n",
       "4     2003          2.6   286618      3            3   2867      9     17   \n",
       "...    ...          ...      ...    ...          ...    ...    ...    ...   \n",
       "9995  2004          3.7     5794      2            4   8884      6     20   \n",
       "9996  2002          1.4   168000      2            1   6240      2     18   \n",
       "9997  2010          3.0    86664      5            1   9866      1      0   \n",
       "9998  2002          1.4   225772      4            1   4084      3     13   \n",
       "9999  2001          2.1   157882      3            3   3342      9     27   \n",
       "\n",
       "      Fuel_Type  Transmission  \n",
       "0             0             1  \n",
       "1             2             0  \n",
       "2             0             0  \n",
       "3             1             1  \n",
       "4             2             2  \n",
       "...         ...           ...  \n",
       "9995          0             2  \n",
       "9996          1             0  \n",
       "9997          3             0  \n",
       "9998          2             0  \n",
       "9999          0             1  \n",
       "\n",
       "[9998 rows x 10 columns]"
      ]
     },
     "execution_count": 25,
     "metadata": {},
     "output_type": "execute_result"
    }
   ],
   "source": [
    "final_data"
   ]
  },
  {
   "cell_type": "markdown",
   "id": "e395ead2-c029-4cb5-b17a-fa9c76ec727f",
   "metadata": {},
   "source": [
    "# FEATURE SELECTION "
   ]
  },
  {
   "cell_type": "code",
   "execution_count": 26,
   "id": "f549f410-0e02-443b-a923-f977f3eca9b2",
   "metadata": {},
   "outputs": [
    {
     "name": "stdout",
     "output_type": "stream",
     "text": [
      "The correlation matrix is =                    Year  Engine_Size   Mileage     Doors  Owner_Count  \\\n",
      "Year          1.000000    -0.001799 -0.002000  0.014462    -0.000119   \n",
      "Engine_Size  -0.001799     1.000000  0.015649 -0.010284     0.006878   \n",
      "Mileage      -0.002000     0.015649  1.000000  0.008308     0.006515   \n",
      "Doors         0.014462    -0.010284  0.008308  1.000000    -0.005624   \n",
      "Owner_Count  -0.000119     0.006878  0.006515 -0.005624     1.000000   \n",
      "Price         0.662880     0.356849 -0.550917 -0.000309     0.002230   \n",
      "Brand        -0.000772     0.001361 -0.010239 -0.000577     0.020220   \n",
      "Model        -0.011532     0.003786 -0.007872  0.014483     0.025199   \n",
      "Fuel_Type    -0.009101    -0.001912 -0.008629  0.011700    -0.000802   \n",
      "Transmission -0.009350    -0.009559  0.020412  0.002544    -0.000780   \n",
      "\n",
      "                 Price     Brand     Model  Fuel_Type  Transmission  \n",
      "Year          0.662880 -0.000772 -0.011532  -0.009101     -0.009350  \n",
      "Engine_Size   0.356849  0.001361  0.003786  -0.001912     -0.009559  \n",
      "Mileage      -0.550917 -0.010239 -0.007872  -0.008629      0.020412  \n",
      "Doors        -0.000309 -0.000577  0.014483   0.011700      0.002544  \n",
      "Owner_Count   0.002230  0.020220  0.025199  -0.000802     -0.000780  \n",
      "Price         1.000000  0.003588  0.003625  -0.037226     -0.218482  \n",
      "Brand         0.003588  1.000000  0.313145  -0.005821      0.009419  \n",
      "Model         0.003625  0.313145  1.000000   0.004844     -0.010565  \n",
      "Fuel_Type    -0.037226 -0.005821  0.004844   1.000000      0.001870  \n",
      "Transmission -0.218482  0.009419 -0.010565   0.001870      1.000000  \n"
     ]
    }
   ],
   "source": [
    "corr_matrix =  final_data.corr()\n",
    "print(\"The correlation matrix is = \",corr_matrix)"
   ]
  },
  {
   "cell_type": "code",
   "execution_count": 27,
   "id": "68e559ab-3fd3-459c-9378-db5b918c7f93",
   "metadata": {},
   "outputs": [
    {
     "name": "stdout",
     "output_type": "stream",
     "text": [
      "Year             True\n",
      "Engine_Size     False\n",
      "Mileage          True\n",
      "Doors           False\n",
      "Owner_Count     False\n",
      "Price            True\n",
      "Brand           False\n",
      "Model           False\n",
      "Fuel_Type       False\n",
      "Transmission    False\n",
      "Name: Price, dtype: bool\n"
     ]
    }
   ],
   "source": [
    "selected_feature = corr_matrix[\"Price\"].abs() > 0.5\n",
    "print(selected_feature)"
   ]
  },
  {
   "cell_type": "code",
   "execution_count": 28,
   "id": "953e5a92-0cd9-4f7a-bf7d-7300757ac24d",
   "metadata": {},
   "outputs": [],
   "source": [
    "new_df = final_data.loc[:, selected_feature] "
   ]
  },
  {
   "cell_type": "code",
   "execution_count": 29,
   "id": "b63066c6-2174-4ebc-ac5f-c2e9155b9cf8",
   "metadata": {},
   "outputs": [
    {
     "name": "stdout",
     "output_type": "stream",
     "text": [
      "Data after feature selection = \n"
     ]
    },
    {
     "data": {
      "text/html": [
       "<div>\n",
       "<style scoped>\n",
       "    .dataframe tbody tr th:only-of-type {\n",
       "        vertical-align: middle;\n",
       "    }\n",
       "\n",
       "    .dataframe tbody tr th {\n",
       "        vertical-align: top;\n",
       "    }\n",
       "\n",
       "    .dataframe thead th {\n",
       "        text-align: right;\n",
       "    }\n",
       "</style>\n",
       "<table border=\"1\" class=\"dataframe\">\n",
       "  <thead>\n",
       "    <tr style=\"text-align: right;\">\n",
       "      <th></th>\n",
       "      <th>Year</th>\n",
       "      <th>Mileage</th>\n",
       "      <th>Price</th>\n",
       "    </tr>\n",
       "  </thead>\n",
       "  <tbody>\n",
       "    <tr>\n",
       "      <th>0</th>\n",
       "      <td>2020</td>\n",
       "      <td>289944</td>\n",
       "      <td>8501</td>\n",
       "    </tr>\n",
       "    <tr>\n",
       "      <th>1</th>\n",
       "      <td>2012</td>\n",
       "      <td>5356</td>\n",
       "      <td>12092</td>\n",
       "    </tr>\n",
       "    <tr>\n",
       "      <th>2</th>\n",
       "      <td>2020</td>\n",
       "      <td>231440</td>\n",
       "      <td>11171</td>\n",
       "    </tr>\n",
       "    <tr>\n",
       "      <th>3</th>\n",
       "      <td>2023</td>\n",
       "      <td>160971</td>\n",
       "      <td>11780</td>\n",
       "    </tr>\n",
       "    <tr>\n",
       "      <th>4</th>\n",
       "      <td>2003</td>\n",
       "      <td>286618</td>\n",
       "      <td>2867</td>\n",
       "    </tr>\n",
       "    <tr>\n",
       "      <th>...</th>\n",
       "      <td>...</td>\n",
       "      <td>...</td>\n",
       "      <td>...</td>\n",
       "    </tr>\n",
       "    <tr>\n",
       "      <th>9995</th>\n",
       "      <td>2004</td>\n",
       "      <td>5794</td>\n",
       "      <td>8884</td>\n",
       "    </tr>\n",
       "    <tr>\n",
       "      <th>9996</th>\n",
       "      <td>2002</td>\n",
       "      <td>168000</td>\n",
       "      <td>6240</td>\n",
       "    </tr>\n",
       "    <tr>\n",
       "      <th>9997</th>\n",
       "      <td>2010</td>\n",
       "      <td>86664</td>\n",
       "      <td>9866</td>\n",
       "    </tr>\n",
       "    <tr>\n",
       "      <th>9998</th>\n",
       "      <td>2002</td>\n",
       "      <td>225772</td>\n",
       "      <td>4084</td>\n",
       "    </tr>\n",
       "    <tr>\n",
       "      <th>9999</th>\n",
       "      <td>2001</td>\n",
       "      <td>157882</td>\n",
       "      <td>3342</td>\n",
       "    </tr>\n",
       "  </tbody>\n",
       "</table>\n",
       "<p>9998 rows × 3 columns</p>\n",
       "</div>"
      ],
      "text/plain": [
       "      Year  Mileage  Price\n",
       "0     2020   289944   8501\n",
       "1     2012     5356  12092\n",
       "2     2020   231440  11171\n",
       "3     2023   160971  11780\n",
       "4     2003   286618   2867\n",
       "...    ...      ...    ...\n",
       "9995  2004     5794   8884\n",
       "9996  2002   168000   6240\n",
       "9997  2010    86664   9866\n",
       "9998  2002   225772   4084\n",
       "9999  2001   157882   3342\n",
       "\n",
       "[9998 rows x 3 columns]"
      ]
     },
     "execution_count": 29,
     "metadata": {},
     "output_type": "execute_result"
    }
   ],
   "source": [
    "print(\"Data after feature selection = \")\n",
    "new_df"
   ]
  },
  {
   "cell_type": "code",
   "execution_count": 30,
   "id": "e2873c49-1d3e-414c-a1de-6dfccdc34fc5",
   "metadata": {},
   "outputs": [
    {
     "name": "stdout",
     "output_type": "stream",
     "text": [
      "Minimum year: 2000\n",
      "Maximum year: 2023\n",
      "Minimum Mileage: 25\n",
      "Maximum year: 299947\n"
     ]
    }
   ],
   "source": [
    "print(\"Minimum year:\",new_df[\"Year\"].min())\n",
    "print(\"Maximum year:\",new_df[\"Year\"].max())\n",
    "\n",
    "print(\"Minimum Mileage:\",new_df[\"Mileage\"].min())\n",
    "print(\"Maximum year:\",new_df[\"Mileage\"].max())"
   ]
  },
  {
   "cell_type": "markdown",
   "id": "ce6a4d26-9236-4bdd-9a4d-9e956fcf7059",
   "metadata": {},
   "source": [
    "# ML"
   ]
  },
  {
   "cell_type": "code",
   "execution_count": 31,
   "id": "2da9aa44-4baa-4be1-82ba-f6d7c0f2c489",
   "metadata": {},
   "outputs": [],
   "source": [
    "from sklearn.linear_model import LinearRegression, Lasso,Ridge,ElasticNet\n",
    "from sklearn.metrics import mean_squared_error, r2_score\n",
    "from sklearn.model_selection import train_test_split"
   ]
  },
  {
   "cell_type": "code",
   "execution_count": 32,
   "id": "023222fa-4e26-41ec-904b-60cd975d8b79",
   "metadata": {},
   "outputs": [
    {
     "name": "stdout",
     "output_type": "stream",
     "text": [
      "Model: Linear Regression\n",
      "Mean Squared Error: 2359674.094593126\n",
      "R2 Score: 0.7421109295778197\n",
      "==================================================\n",
      "Model: Lasso\n",
      "Mean Squared Error: 2359659.8380120234\n",
      "R2 Score: 0.7421124876813121\n",
      "==================================================\n",
      "Model: Ridge\n",
      "Mean Squared Error: 2359673.5593131226\n",
      "R2 Score: 0.7421109880786367\n",
      "==================================================\n",
      "Model: ElasticNet\n",
      "Mean Squared Error: 2358007.1634223\n",
      "R2 Score: 0.7422931086893703\n",
      "==================================================\n"
     ]
    }
   ],
   "source": [
    "x = new_df.drop(columns=[\"Price\"])\n",
    "y = new_df[\"Price\"]\n",
    "\n",
    "x_train,x_test,y_train,y_test = train_test_split(x,y,test_size=0.2,random_state=42)\n",
    "\n",
    "models = {\n",
    "    \"Linear Regression\": LinearRegression(),\n",
    "    \"Lasso\": Lasso(),\n",
    "    \"Ridge\": Ridge(),\n",
    "    \"ElasticNet\": ElasticNet()\n",
    "}\n",
    "\n",
    "# Loop through models and evaluate performance\n",
    "for name, model in models.items():\n",
    "    model.fit(x_train, y_train)\n",
    "    prediction = model.predict(x_test)\n",
    "    mse = mean_squared_error(y_test, prediction)\n",
    "    r2 = r2_score(y_test, prediction)\n",
    "\n",
    "    print(f\"Model: {name}\")\n",
    "    print(f\"Mean Squared Error: {mse}\")\n",
    "    print(f\"R2 Score: {r2}\")\n",
    "    print(\"=\" * 50)"
   ]
  },
  {
   "cell_type": "raw",
   "id": "7bb100da-b735-4d84-8c88-fcc23e75f29f",
   "metadata": {},
   "source": [
    "# using linear regression..."
   ]
  },
  {
   "cell_type": "code",
   "execution_count": 33,
   "id": "98b557e2-4b88-4a32-83bc-72bd3c15c0a1",
   "metadata": {},
   "outputs": [
    {
     "name": "stdout",
     "output_type": "stream",
     "text": [
      "Model saved successfully.....\n",
      "==================================================\n",
      "The MSE =  2359674.094593126\n",
      "==================================================\n",
      "The r2 score =  0.7421109295778197\n"
     ]
    }
   ],
   "source": [
    "x = new_df.drop(columns=[\"Price\"])\n",
    "y = new_df[\"Price\"]\n",
    "\n",
    "x_train,x_test,y_train,y_test = train_test_split(x,y,test_size=0.2,random_state=42)\n",
    "\n",
    "\n",
    "linear = LinearRegression()\n",
    "linear.fit(x_train,y_train)\n",
    "\n",
    "with open(\"linear.pkl\",\"wb\") as file:\n",
    "    pickle.dump(linear,file)\n",
    "print(\"Model saved successfully.....\")\n",
    "print(\"=\"*50)\n",
    "\n",
    "prediction = linear.predict(x_test)\n",
    "\n",
    "mse = mean_squared_error(y_test,prediction)\n",
    "print(\"The MSE = \", mse)\n",
    "print(\"=\"*50)\n",
    "\n",
    "r2 = r2_score(y_test,prediction)\n",
    "print(\"The r2 score = \", r2)"
   ]
  },
  {
   "cell_type": "code",
   "execution_count": null,
   "id": "9ddd38d7-a960-445e-b24b-ebf6d2c8f356",
   "metadata": {},
   "outputs": [],
   "source": []
  }
 ],
 "metadata": {
  "kernelspec": {
   "display_name": "Python 3 (ipykernel)",
   "language": "python",
   "name": "python3"
  },
  "language_info": {
   "codemirror_mode": {
    "name": "ipython",
    "version": 3
   },
   "file_extension": ".py",
   "mimetype": "text/x-python",
   "name": "python",
   "nbconvert_exporter": "python",
   "pygments_lexer": "ipython3",
   "version": "3.12.4"
  }
 },
 "nbformat": 4,
 "nbformat_minor": 5
}
